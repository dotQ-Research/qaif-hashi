{
  "nbformat": 4,
  "nbformat_minor": 0,
  "metadata": {
    "colab": {
      "provenance": []
    },
    "kernelspec": {
      "name": "python3",
      "display_name": "Python 3"
    },
    "language_info": {
      "name": "python"
    }
  },
  "cells": [
    {
      "cell_type": "code",
      "execution_count": 1,
      "metadata": {
        "colab": {
          "base_uri": "https://localhost:8080/"
        },
        "id": "NzTzyiyifwo1",
        "outputId": "56ad0517-5277-4bff-d47a-70024a9833dd"
      },
      "outputs": [
        {
          "output_type": "stream",
          "name": "stdout",
          "text": [
            "Collecting tk\n",
            "  Downloading tk-0.1.0-py3-none-any.whl (3.9 kB)\n",
            "Installing collected packages: tk\n",
            "Successfully installed tk-0.1.0\n"
          ]
        }
      ],
      "source": [
        "pip install tk\n"
      ]
    },
    {
      "cell_type": "code",
      "source": [
        "import tkinter as tk\n",
        "import random\n",
        "\n",
        "# Define the grid size\n",
        "GRID_SIZE = 5\n",
        "\n",
        "class QuantumHashiGame:\n",
        "    def __init__(self, root):\n",
        "        self.root = root\n",
        "        self.root.title(\"Quantum Hashi - Error Correction\")\n",
        "\n",
        "        # Create a canvas for the game grid\n",
        "        self.canvas = tk.Canvas(root, width=400, height=400)\n",
        "        self.canvas.pack()\n",
        "\n",
        "        # Initialize the grid\n",
        "        self.grid = [[0 for _ in range(GRID_SIZE)] for _ in range(GRID_SIZE)]\n",
        "        self.errors = [[False for _ in range(GRID_SIZE)] for _ in range(GRID_SIZE)]\n",
        "\n",
        "        # Generate random errors (red bridges)\n",
        "        self.generate_random_errors()\n",
        "\n",
        "        # Draw the initial grid\n",
        "        self.draw_grid()\n",
        "\n",
        "        # Bind click event to the canvas\n",
        "        self.canvas.bind(\"<Button-1>\", self.on_click)\n",
        "\n",
        "    def generate_random_errors(self):\n",
        "        for _ in range(GRID_SIZE):\n",
        "            i, j = random.randint(0, GRID_SIZE - 1), random.randint(0, GRID_SIZE - 1)\n",
        "            self.errors[i][j] = True\n",
        "\n",
        "    def draw_grid(self):\n",
        "        self.canvas.delete(\"all\")\n",
        "\n",
        "        # Draw the grid lines\n",
        "        for i in range(GRID_SIZE):\n",
        "            for j in range(GRID_SIZE):\n",
        "                x0, y0 = i * 80, j * 80\n",
        "                x1, y1 = (i + 1) * 80, (j + 1) * 80\n",
        "                self.canvas.create_rectangle(x0, y0, x1, y1)\n",
        "\n",
        "                # Draw red bridge (error)\n",
        "                if self.errors[i][j]:\n",
        "                    self.canvas.create_line(x0, y0, x1, y1, fill=\"red\", width=3)\n",
        "\n",
        "    def on_click(self, event):\n",
        "        # Get the clicked cell coordinates\n",
        "        x, y = event.x // 80, event.y // 80\n",
        "\n",
        "        # If it's an error cell, correct it\n",
        "        if self.errors[x][y]:\n",
        "            self.errors[x][y] = False\n",
        "            self.draw_grid()\n",
        "\n",
        "            # Check if all errors are corrected\n",
        "            if all(not error for row in self.errors for error in row):\n",
        "                self.show_win_message()\n",
        "\n",
        "    def show_win_message(self):\n",
        "        self.canvas.delete(\"all\")\n",
        "        self.canvas.create_text(\n",
        "            200, 200, text=\"Congratulations! You've corrected all errors.\", font=(\"Helvetica\", 16)\n",
        "        )\n",
        "\n",
        "if __name__ == \"__main__\":\n",
        "    root = tk.Tk()\n",
        "    app = QuantumHashiGame(root)\n",
        "    root.mainloop()\n"
      ],
      "metadata": {
        "colab": {
          "base_uri": "https://localhost:8080/",
          "height": 366
        },
        "id": "6NpjnVvkfyBg",
        "outputId": "bb1bf33c-4dea-4823-8f09-e514d40a5262"
      },
      "execution_count": 2,
      "outputs": [
        {
          "output_type": "error",
          "ename": "TclError",
          "evalue": "ignored",
          "traceback": [
            "\u001b[0;31m---------------------------------------------------------------------------\u001b[0m",
            "\u001b[0;31mTclError\u001b[0m                                  Traceback (most recent call last)",
            "\u001b[0;32m<ipython-input-2-77601c691d78>\u001b[0m in \u001b[0;36m<cell line: 67>\u001b[0;34m()\u001b[0m\n\u001b[1;32m     66\u001b[0m \u001b[0;34m\u001b[0m\u001b[0m\n\u001b[1;32m     67\u001b[0m \u001b[0;32mif\u001b[0m \u001b[0m__name__\u001b[0m \u001b[0;34m==\u001b[0m \u001b[0;34m\"__main__\"\u001b[0m\u001b[0;34m:\u001b[0m\u001b[0;34m\u001b[0m\u001b[0;34m\u001b[0m\u001b[0m\n\u001b[0;32m---> 68\u001b[0;31m     \u001b[0mroot\u001b[0m \u001b[0;34m=\u001b[0m \u001b[0mtk\u001b[0m\u001b[0;34m.\u001b[0m\u001b[0mTk\u001b[0m\u001b[0;34m(\u001b[0m\u001b[0;34m)\u001b[0m\u001b[0;34m\u001b[0m\u001b[0;34m\u001b[0m\u001b[0m\n\u001b[0m\u001b[1;32m     69\u001b[0m     \u001b[0mapp\u001b[0m \u001b[0;34m=\u001b[0m \u001b[0mQuantumHashiGame\u001b[0m\u001b[0;34m(\u001b[0m\u001b[0mroot\u001b[0m\u001b[0;34m)\u001b[0m\u001b[0;34m\u001b[0m\u001b[0;34m\u001b[0m\u001b[0m\n\u001b[1;32m     70\u001b[0m     \u001b[0mroot\u001b[0m\u001b[0;34m.\u001b[0m\u001b[0mmainloop\u001b[0m\u001b[0;34m(\u001b[0m\u001b[0;34m)\u001b[0m\u001b[0;34m\u001b[0m\u001b[0;34m\u001b[0m\u001b[0m\n",
            "\u001b[0;32m/usr/lib/python3.10/tkinter/__init__.py\u001b[0m in \u001b[0;36m__init__\u001b[0;34m(self, screenName, baseName, className, useTk, sync, use)\u001b[0m\n\u001b[1;32m   2297\u001b[0m                 \u001b[0mbaseName\u001b[0m \u001b[0;34m=\u001b[0m \u001b[0mbaseName\u001b[0m \u001b[0;34m+\u001b[0m \u001b[0mext\u001b[0m\u001b[0;34m\u001b[0m\u001b[0;34m\u001b[0m\u001b[0m\n\u001b[1;32m   2298\u001b[0m         \u001b[0minteractive\u001b[0m \u001b[0;34m=\u001b[0m \u001b[0;32mFalse\u001b[0m\u001b[0;34m\u001b[0m\u001b[0;34m\u001b[0m\u001b[0m\n\u001b[0;32m-> 2299\u001b[0;31m         \u001b[0mself\u001b[0m\u001b[0;34m.\u001b[0m\u001b[0mtk\u001b[0m \u001b[0;34m=\u001b[0m \u001b[0m_tkinter\u001b[0m\u001b[0;34m.\u001b[0m\u001b[0mcreate\u001b[0m\u001b[0;34m(\u001b[0m\u001b[0mscreenName\u001b[0m\u001b[0;34m,\u001b[0m \u001b[0mbaseName\u001b[0m\u001b[0;34m,\u001b[0m \u001b[0mclassName\u001b[0m\u001b[0;34m,\u001b[0m \u001b[0minteractive\u001b[0m\u001b[0;34m,\u001b[0m \u001b[0mwantobjects\u001b[0m\u001b[0;34m,\u001b[0m \u001b[0museTk\u001b[0m\u001b[0;34m,\u001b[0m \u001b[0msync\u001b[0m\u001b[0;34m,\u001b[0m \u001b[0muse\u001b[0m\u001b[0;34m)\u001b[0m\u001b[0;34m\u001b[0m\u001b[0;34m\u001b[0m\u001b[0m\n\u001b[0m\u001b[1;32m   2300\u001b[0m         \u001b[0;32mif\u001b[0m \u001b[0museTk\u001b[0m\u001b[0;34m:\u001b[0m\u001b[0;34m\u001b[0m\u001b[0;34m\u001b[0m\u001b[0m\n\u001b[1;32m   2301\u001b[0m             \u001b[0mself\u001b[0m\u001b[0;34m.\u001b[0m\u001b[0m_loadtk\u001b[0m\u001b[0;34m(\u001b[0m\u001b[0;34m)\u001b[0m\u001b[0;34m\u001b[0m\u001b[0;34m\u001b[0m\u001b[0m\n",
            "\u001b[0;31mTclError\u001b[0m: no display name and no $DISPLAY environment variable"
          ]
        }
      ]
    }
  ]
}